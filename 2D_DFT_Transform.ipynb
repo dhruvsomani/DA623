{
  "nbformat": 4,
  "nbformat_minor": 0,
  "metadata": {
    "colab": {
      "provenance": [],
      "collapsed_sections": [
        "jFxHUgBZc9jv",
        "yRk9TwazrPN7",
        "TeudOlDRCPf3"
      ]
    },
    "kernelspec": {
      "name": "python3",
      "display_name": "Python 3"
    },
    "language_info": {
      "name": "python"
    }
  },
  "cells": [
    {
      "cell_type": "markdown",
      "source": [
        "# Discrete Fourier Transform\n",
        "\n"
      ],
      "metadata": {
        "id": "e0VEJ9Yp9UIN"
      }
    },
    {
      "cell_type": "markdown",
      "source": [
        "Ever wondered how your favorite music app identifies songs with just a snippet of audio? Or how medical imaging reveals the inner workings of your body? The secret lies in a powerful tool called the Discrete Fourier Transform (DFT).\n",
        "Think of the DFT as a decoder ring for signals. It takes a seemingly ordinary sequence of values and reveals the hidden symphony of frequencies within. Just like a prism splits sunlight into a rainbow, the DFT breaks down a signal into its constituent frequencies, each with its own amplitude and phase. This gives us a whole new perspective, unlocking a world of possibilities!\n",
        "\n"
      ],
      "metadata": {
        "id": "-pJks3tBFqvb"
      }
    },
    {
      "cell_type": "markdown",
      "source": [
        "### How Does the Magic Happen?\n"
      ],
      "metadata": {
        "id": "-x5KTDBpF2Sl"
      }
    },
    {
      "cell_type": "markdown",
      "source": [
        "The DFT works its magic by transforming a signal from the familiar time domain, where we see values changing over time, to the frequency domain, where we see the contribution of each frequency. Imagine it as switching from a movie of a person speaking to a musical score showing the notes they hit.\n",
        "\n",
        "<div>\n",
        "<img src=\"https://pythonnumericalmethods.studentorg.berkeley.edu/_images/24.02.02-time_frequency.png\" width=\"500\"/>\n",
        "</div>\n"
      ],
      "metadata": {
        "id": "1AqS_iqMFwNt"
      }
    },
    {
      "cell_type": "markdown",
      "source": [
        "### What Does the DFT do?\n"
      ],
      "metadata": {
        "id": "J9lQ04YCGDeq"
      }
    },
    {
      "cell_type": "markdown",
      "source": [
        "At its heart, DFT is a \"transform\". It transforms a given input to an output. More specifically, DFT takes in a sequence of numbers, \"transforms\" them, and then spits out another sequence of numbers (which may be complex) of the same length. How are the input and output related?\n",
        "\n",
        "\\begin{equation}\n",
        "X[k] = \\sum_{n=0}^{N-1} x[n] \\cdot e^{-i2\\pi\\frac{k}{N} n}%, \\quad k = 0, 1, ..., N-1%\n",
        "\\end{equation}\n",
        "\n",
        "where\n",
        "$x[n]$ is the input sequence in the time domain,\n",
        "$X[k]$ is the DFT output sequence in the frequency domain,\n",
        "$N$ is the length of the input sequence,\n",
        "$i$ is the imaginary unit ($i^2 = -1$),\n",
        "$k$ is the frequency index and\n",
        "$n$ is the time index.\n",
        "\n",
        "Don't be overwhelmed by the equation, if you look at it carefully, you'll notice that each $X[k]$ is just a weighted sum of $x[n]$, i.e. DFT is just a linear transform, its just that the scalars over here can be complex numbers.\n",
        "\n"
      ],
      "metadata": {
        "id": "XwrM301JGIYr"
      }
    },
    {
      "cell_type": "markdown",
      "source": [
        "### Exercise: Implementing Discrete Fourier Transform (DFT) in Python\n",
        "\n",
        "In this exercise, you will implement the Discrete Fourier Transform (DFT) algorithm in Python. Use the aforementioned formula, to calculate the DFT output sequence for the given input sequence in the time domain."
      ],
      "metadata": {
        "id": "I8cZoXTTjtZc"
      }
    },
    {
      "cell_type": "code",
      "source": [
        "import numpy as np\n",
        "\n",
        "def DFT(x):\n",
        "    N = len(x)\n",
        "    X = np.zeros(N, dtype=np.complex64)\n",
        "    iota = np.complex64(1.0j)\n",
        "    pi = np.pi\n",
        "\n",
        "    # Your code goes here\n",
        "\n",
        "    return X\n",
        "\n",
        "x = np.array([1, 2, 3, 4], dtype=np.complex64)\n",
        "X = DFT(x)\n",
        "print(X)\n",
        "\n",
        "X_np = np.fft.fft(x)\n",
        "print(X_np)\n",
        "\n",
        "if np.allclose(X, X_np):\n",
        "    print(\"Test passed! Output matches NumPy's FFT results.\")\n",
        "else:\n",
        "    print(\"Test failed! Output does not match NumPy's FFT results.\")\n"
      ],
      "metadata": {
        "id": "hGTP-Xp_jr-q"
      },
      "execution_count": null,
      "outputs": []
    },
    {
      "cell_type": "markdown",
      "source": [
        "#### Hints\n",
        "\n",
        "<details>\n",
        "<summary>Hint 1</summary>\n",
        "You can use NumPy's `exp` function to calculate the complex exponential term $ e^{-i \\frac{2 \\pi}{N} kn} $.\n",
        "</details>\n",
        "\n",
        "<details>\n",
        "<summary>Hint 2</summary>\n",
        "Iterate through each frequency index $ k $ from 0 to $ N-1 $.\n",
        "</details>\n",
        "\n",
        "<details>\n",
        "<summary>Hint 3</summary>\n",
        "Inside the loop, iterate through each time index $ n $ from 0 to $ N-1 $.\n",
        "</details>\n",
        "\n",
        "<details>\n",
        "<summary>Hint 4</summary>\n",
        "Sum up the products of each sample of $ x[n] $ and the corresponding exponential term for all $ n $.\n",
        "</details>\n",
        "\n",
        "<details>\n",
        "<summary>Solution</summary>\n",
        "\n",
        "```\n",
        "for k in range(N):\n",
        "    for n in range(N):\n",
        "        X[k] += x[n] * np.exp(-iota * pi * 2 * k * n/N)\n",
        "```\n",
        "\n",
        "\n",
        "</details>\n"
      ],
      "metadata": {
        "id": "PzqtLF-HkTyq"
      }
    },
    {
      "cell_type": "markdown",
      "source": [
        "# 2D Discrete Fourier Transform\n",
        "\n",
        "Ever zoomed in on a digital image and wondered how those tiny squares of color create such detailed pictures? Or how image editing software magically removes blemishes or sharpens blurry photos? The answer lies in the realm of the 2D Discrete Fourier Transform (DFT), a powerful tool that allows us to analyze and manipulate images in ways that would seem like magic to the naked eye.\n",
        "Imagine the 2D DFT as an X-ray vision for images. It lets us peer beneath the surface and see the image in terms of its frequency components, revealing patterns and details that are invisible in the spatial domain. It's like having a superpower that allows you to understand the building blocks of any image!\n",
        "\n",
        "The 2D DFT opens up a whole new world of possibilities when it comes to working with images:\n",
        "*   Image enhancement: Sharpen blurry images, remove noise, and even restore\n",
        "damaged photos by manipulating their frequency components.\n",
        "*   Image compression: Shrink image file sizes without sacrificing quality by discarding less important frequency information. This is how JPEG and other image formats work!\n",
        "*   Image analysis: Gain insights into the texture, patterns, and overall composition of an image by exploring its frequency content.\n",
        "*   Medical imaging: Improve the clarity and detail of medical images like X-rays and MRIs, aiding in diagnosis and treatment.\n"
      ],
      "metadata": {
        "id": "AIg53ed3_Idt"
      }
    },
    {
      "cell_type": "markdown",
      "source": [
        "### How Does it Work?"
      ],
      "metadata": {
        "id": "xwgt1b31GQNg"
      }
    },
    {
      "cell_type": "markdown",
      "source": [
        "Here's how the 2D Discrete Fourier Transform is calculated for an image:\n",
        "\n",
        "$$F(u, v) = \\sum_{x=0}^{M-1} \\sum_{y=0}^{N-1} f(x, y) \\cdot e^{-i\\cdot2\\pi\\left(\\frac{ux}{M} + \\frac{vy}{N}\\right)}$$\n",
        "\n",
        "In this formula:\n",
        "\n",
        "*   $F(u, v)$ represents the 2D DFT coefficient at frequency indices $u$ and $v$.\n",
        "*   $f(x, y)$ represents the pixel intensity at spatial coordinates $x$ and $y$.\n",
        "*   $M$ and $N$ represent the dimensions of the image in the spatial domain.\n",
        "*   The formula sums over all spatial coordinates $x$ and $y$ to compute the contribution of each pixel intensity to the DFT coefficient at frequency indices $u$ and $v$.\n"
      ],
      "metadata": {
        "id": "14QnaDXwGUBI"
      }
    },
    {
      "cell_type": "markdown",
      "source": [
        "### Exercise: Implementing 2D Discrete Fourier Transform (DFT) in Python\n",
        "\n",
        "In this exercise, you will implement the 2D Discrete Fourier Transform (DFT) algorithm in Python. Use the aforementioned formula, to calculate the DFT matrix for the given input image.\n",
        "\n",
        "Note that the matrix in the frequency domain will be a matrix of complex numbers, and is not just limited to real numbers as was the case of the image.\n",
        "To visualize such a matrix, we use the absolute values of the complex numbers i.e. the modulus of the number to visualize the 2D matrix."
      ],
      "metadata": {
        "id": "jFxHUgBZc9jv"
      }
    },
    {
      "cell_type": "code",
      "source": [
        "import numpy as np\n",
        "import matplotlib.pyplot as plt\n",
        "from PIL import Image\n",
        "import urllib.request\n",
        "import io\n",
        "\n",
        "IMAGE_URL = 'https://i.pinimg.com/736x/a9/4b/ab/a94babe6ef4cbfcd377ea6f1c0817730.jpg'\n",
        "IMAGE_DATA = urllib.request.urlopen(IMAGE_URL)\n",
        "IMAGE_FILE = io.BytesIO(IMAGE_DATA.read())\n",
        "IMAGE = Image.open(IMAGE_FILE).convert('L')\n",
        "\n",
        "BASE_WIDTH = 50\n",
        "WPERCENT = (BASE_WIDTH / float(IMAGE.size[0]))\n",
        "HSIZE = int((float(IMAGE.size[1]) * float(WPERCENT)))\n",
        "IMAGE = IMAGE.resize((BASE_WIDTH, HSIZE), Image.Resampling.LANCZOS)\n",
        "\n",
        "def DFT_2D(img):\n",
        "    M, N = img.shape\n",
        "    F = np.zeros((M, N), dtype=np.complex128)\n",
        "    iota = np.complex64(1.0j)\n",
        "    pi = np.pi\n",
        "\n",
        "    # Your code here\n",
        "\n",
        "    return F\n",
        "\n",
        "# Load an image\n",
        "img = np.array(IMAGE)\n",
        "\n",
        "# Calculate 2D DFT using your function\n",
        "F = DFT_2D(img)\n",
        "\n",
        "# Calculate 2D DFT using numpy's library\n",
        "F_np = np.fft.fft2(img)\n",
        "\n",
        "# Check if the outputs match\n",
        "if np.allclose(F, F_np):\n",
        "    print(\"Test passed! Output matches NumPy's fft2 results.\\n\")\n",
        "else:\n",
        "    print(\"Test failed! Output does not match NumPy's fft2 results.\\n\")\n",
        "\n",
        "# Display the original image\n",
        "plt.subplot(1, 2, 1)\n",
        "plt.imshow(img, cmap='gray')\n",
        "plt.title('Original Image')\n",
        "\n",
        "# Display the magnitude spectrum of the 2D DFT\n",
        "plt.subplot(1, 2, 2)\n",
        "plt.imshow(np.log(1 + np.abs(np.fft.fftshift(F))), cmap='gray')\n",
        "plt.title('Magnitude Spectrum')\n",
        "\n",
        "plt.show()\n"
      ],
      "metadata": {
        "id": "RTrTUKzWUX2L",
        "colab": {
          "base_uri": "https://localhost:8080/",
          "height": 415
        },
        "outputId": "7ffecbb4-6ab1-4660-8fbc-5f6b37525e3f"
      },
      "execution_count": null,
      "outputs": [
        {
          "output_type": "stream",
          "name": "stdout",
          "text": [
            "Test failed! Output does not match NumPy's fft2 results.\n",
            "\n"
          ]
        },
        {
          "output_type": "display_data",
          "data": {
            "text/plain": [
              "<Figure size 640x480 with 2 Axes>"
            ],
            "image/png": "[encoded data removed]"
          },
          "metadata": {}
        }
      ]
    },
    {
      "cell_type": "markdown",
      "source": [
        "<details>\n",
        "<summary>Solution</summary>\n",
        "\n",
        "```\n",
        "for u in range(M):\n",
        "        for v in range(N):\n",
        "            for x in range(M):\n",
        "                for y in range(N):\n",
        "                    F[u, v] += img[x, y] * np.exp(-iota * 2 * pi * (u * x / M + v * y / N))\n",
        "```\n",
        "</details>\n"
      ],
      "metadata": {
        "id": "kFjBP3UebqDO"
      }
    },
    {
      "cell_type": "markdown",
      "source": [
        "### Properties of 2D DFT\n",
        "\n",
        "In this section, we will explore and visualize various properties of the 2D DFT, what it reveals about the image, and how manipulating it can help us manipulate images."
      ],
      "metadata": {
        "id": "dQXvuTy8dPpo"
      }
    },
    {
      "cell_type": "markdown",
      "source": [
        "#### Linearity\n",
        "\n",
        "\n"
      ],
      "metadata": {
        "id": "yRk9TwazrPN7"
      }
    },
    {
      "cell_type": "markdown",
      "source": [
        "DFT's are linear. A DFT is a linear transformation, thus, it is natural that it satisfies the two properties of a linear transformation i.e.\n",
        "\n",
        "*   Additivity: $\\text{DFT}(A) + \\text{DFT}(B) = \\text{DFT}(A+B)$\n",
        "\n",
        "*   Homogeneity of Degree 1: $\\text{DFT}(\\alpha \\cdot A) = \\alpha \\cdot \\text{DFT}(A)$\n",
        "\n",
        "The code and illustration below will demonstrate additivity for DFTs."
      ],
      "metadata": {
        "id": "mO_kq-wzFRQA"
      }
    },
    {
      "cell_type": "code",
      "source": [
        "import numpy as np\n",
        "import matplotlib.pyplot as plt\n",
        "\n",
        "IMAGE1 = np.zeros((32, 32))\n",
        "for i in range(32):\n",
        "    for j in range(32):\n",
        "        IMAGE1[i][j] = ((2*j)%7)/7\n",
        "\n",
        "IMAGE2 = np.zeros((32, 32))\n",
        "\n",
        "for i in range(32):\n",
        "    for j in range(32):\n",
        "        IMAGE2[i][j] = ((4*i-j)%5)/5\n",
        "\n",
        "# Load an image\n",
        "img1 = np.array(IMAGE1)\n",
        "img2 = np.array(IMAGE2)\n",
        "img_sum = np.array(IMAGE1 + IMAGE2)\n",
        "\n",
        "F1 = np.fft.fft2(img1)\n",
        "F2 = np.fft.fft2(img2)\n",
        "F_sum = np.fft.fft2(img_sum)\n",
        "\n",
        "plt.subplot(2, 3, 1)\n",
        "plt.imshow(img1, cmap='gray')\n",
        "plt.title('A')\n",
        "\n",
        "plt.subplot(2, 3, 2)\n",
        "plt.imshow(img2, cmap='gray')\n",
        "plt.title('B')\n",
        "\n",
        "plt.subplot(2, 3, 3)\n",
        "plt.imshow(img_sum, cmap='gray')\n",
        "plt.title('A+B')\n",
        "\n",
        "plt.subplot(2, 3, 4)\n",
        "plt.imshow(np.log(1 + np.abs(np.fft.fftshift(F1))), cmap='gray')\n",
        "plt.title('DFT(A)')\n",
        "\n",
        "plt.subplot(2, 3, 5)\n",
        "plt.imshow(np.log(1 + np.abs(np.fft.fftshift(F2))), cmap='gray')\n",
        "plt.title('DFT(B)')\n",
        "\n",
        "plt.subplot(2, 3, 6)\n",
        "plt.imshow(np.log(1 + np.abs(np.fft.fftshift(F_sum))), cmap='gray')\n",
        "plt.title('DFT(A+B)')\n",
        "\n",
        "plt.show()"
      ],
      "metadata": {
        "colab": {
          "base_uri": "https://localhost:8080/",
          "height": 430
        },
        "id": "cZnYZLFFscrZ",
        "outputId": "91a0aafc-5fb4-4ff3-dbba-37cfee1ee978"
      },
      "execution_count": null,
      "outputs": [
        {
          "output_type": "display_data",
          "data": {
            "text/plain": [
              "<Figure size 640x480 with 6 Axes>"
            ],
            "image/png": "[encoded data removed]"
          },
          "metadata": {}
        }
      ]
    },
    {
      "cell_type": "markdown",
      "source": [
        "#### Rotation"
      ],
      "metadata": {
        "id": "TeudOlDRCPf3"
      }
    },
    {
      "cell_type": "markdown",
      "source": [
        "Rotation of images also rotates the DFT transform corresponding to that image. Rotating a matrix by 90 degrees clockwise in the spatial domain corresponds to a phase shift in the frequency domain. Specifically, rotating a matrix by 90 degrees clockwise swaps its rows and columns and flips the order of the elements in each row. This rotation in the spatial domain results in a rotation in the frequency domain."
      ],
      "metadata": {
        "id": "DOyjDGIkFOWw"
      }
    },
    {
      "cell_type": "markdown",
      "source": [],
      "metadata": {
        "id": "yApqZAr4D1qc"
      }
    },
    {
      "cell_type": "code",
      "source": [
        "import numpy as np\n",
        "import matplotlib.pyplot as plt\n",
        "\n",
        "SMILEY = np.zeros((32, 32), dtype=int)\n",
        "\n",
        "# Draw the smiley face\n",
        "SMILEY[4:28, 4:28] = 1  # Draw the face\n",
        "SMILEY[12:16, 8:12] = 0  # Erase part of the face for the mouth\n",
        "SMILEY[12:16, 20:24] = 0  # Erase part of the face for the eyes\n",
        "SMILEY[20:24, 12:20] = 0\n",
        "\n",
        "# Load an image\n",
        "img1 = np.array(SMILEY)\n",
        "img2 = np.rot90(SMILEY, k=-1)\n",
        "\n",
        "F1 = np.fft.fft2(img1)\n",
        "F2 = np.fft.fft2(img2)\n",
        "\n",
        "plt.subplot(2, 3, 1)\n",
        "plt.imshow(img1, cmap='gray')\n",
        "plt.title('A')\n",
        "\n",
        "plt.subplot(2, 3, 2)\n",
        "plt.imshow(img2, cmap='gray')\n",
        "plt.title('rot(A)')\n",
        "\n",
        "plt.subplot(2, 3, 4)\n",
        "plt.imshow(np.log(1 + np.abs(np.fft.fftshift(F1))), cmap='gray')\n",
        "plt.title('DFT(A)')\n",
        "\n",
        "plt.subplot(2, 3, 5)\n",
        "plt.imshow(np.log(1 + np.abs(np.fft.fftshift(F2))), cmap='gray')\n",
        "plt.title('DFT(rot(A))')\n",
        "\n",
        "plt.show()"
      ],
      "metadata": {
        "id": "g1MYPW8vCIq6",
        "colab": {
          "base_uri": "https://localhost:8080/",
          "height": 430
        },
        "outputId": "b1616f11-f0e5-4d76-ac1f-caed56a1894a"
      },
      "execution_count": 17,
      "outputs": [
        {
          "output_type": "display_data",
          "data": {
            "text/plain": [
              "<Figure size 640x480 with 4 Axes>"
            ],
            "image/png": "[encoded data removed]"
          },
          "metadata": {}
        }
      ]
    }
  ]
}